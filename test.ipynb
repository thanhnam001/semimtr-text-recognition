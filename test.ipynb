{
 "cells": [
  {
   "cell_type": "code",
   "execution_count": 123,
   "metadata": {},
   "outputs": [
    {
     "data": {
      "text/plain": [
       "tensor([0.0333, 0.0223, 0.9112, 0.0332])"
      ]
     },
     "execution_count": 123,
     "metadata": {},
     "output_type": "execute_result"
    }
   ],
   "source": [
    "import torch\n",
    "smooth_factor = 0.1\n",
    "def prob_smooth_label(one_hot):\n",
    "    one_hot = one_hot.float()\n",
    "    delta = torch.rand([]) * smooth_factor\n",
    "    num_classes = len(one_hot)\n",
    "    noise = torch.rand(num_classes)\n",
    "    noise = noise / noise.sum() * delta\n",
    "    one_hot = one_hot * (1 - delta) + noise\n",
    "    return one_hot\n",
    "oh = torch.rand(3)\n",
    "prob_smooth_label(torch.tensor([0,0,1,0]))"
   ]
  },
  {
   "cell_type": "code",
   "execution_count": 120,
   "metadata": {},
   "outputs": [
    {
     "data": {
      "text/plain": [
       "tensor(0.9816)"
      ]
     },
     "execution_count": 120,
     "metadata": {},
     "output_type": "execute_result"
    }
   ],
   "source": [
    "torch.rand([])"
   ]
  },
  {
   "cell_type": "code",
   "execution_count": null,
   "metadata": {},
   "outputs": [],
   "source": []
  },
  {
   "cell_type": "code",
   "execution_count": 77,
   "metadata": {},
   "outputs": [],
   "source": [
    "from collections import defaultdict\n",
    "a = defaultdict(lambda:{'labeled':[], 'unlabel':[]})\n",
    "ls = [a[i] for i in range(5)]"
   ]
  },
  {
   "cell_type": "code",
   "execution_count": 80,
   "metadata": {},
   "outputs": [
    {
     "data": {
      "text/plain": [
       "dict_items([(0, {'labeled': [], 'unlabel': []}), (1, {'labeled': [], 'unlabel': []}), (2, {'labeled': [], 'unlabel': []}), (3, {'labeled': [], 'unlabel': []}), (4, {'labeled': [], 'unlabel': []})])"
      ]
     },
     "execution_count": 80,
     "metadata": {},
     "output_type": "execute_result"
    }
   ],
   "source": [
    "a.items()"
   ]
  },
  {
   "cell_type": "code",
   "execution_count": 85,
   "metadata": {},
   "outputs": [],
   "source": [
    "import torch\n",
    "from typing import Iterator, Sequence, Tuple\n",
    "import numpy as np\n",
    "\n",
    "import torch\n",
    "from torch.utils.data.sampler import Sampler\n",
    "class EndlessGeneratePermutedIndices:\n",
    "    def __init__(self, length: int) -> None:\n",
    "        self.length = length\n",
    "        self.finished = False\n",
    "        self._sample_perm()\n",
    "\n",
    "    def _sample_perm(self) -> None:\n",
    "        self.perm_list = torch.randperm(self.length).tolist()\n",
    "\n",
    "    def __iter__(self):\n",
    "        self.finished = False\n",
    "        self._sample_perm()\n",
    "        # return self\n",
    "\n",
    "    def __next__(self) -> int:\n",
    "        if len(self.perm_list) == 0:\n",
    "            self._sample_perm()\n",
    "            self.finished = True\n",
    "        return self.perm_list.pop()"
   ]
  },
  {
   "cell_type": "code",
   "execution_count": 97,
   "metadata": {},
   "outputs": [],
   "source": [
    "e = EndlessGeneratePermutedIndices(5)"
   ]
  },
  {
   "cell_type": "code",
   "execution_count": 103,
   "metadata": {},
   "outputs": [
    {
     "data": {
      "text/plain": [
       "(3, True)"
      ]
     },
     "execution_count": 103,
     "metadata": {},
     "output_type": "execute_result"
    }
   ],
   "source": [
    "next(e), e.finished"
   ]
  },
  {
   "cell_type": "code",
   "execution_count": 3,
   "metadata": {},
   "outputs": [],
   "source": [
    "class WeightedDatasetRandomSampler(Sampler[int]):\n",
    "    r\"\"\"Samples datasets from ``[0,..,len(weights)-1]`` with given probabilities (weights),\n",
    "    and provide a random index for the chosen dataset.\n",
    "    Args:\n",
    "        dataset_weights (sequence)   : a sequence of weights, necessary summing up to one\n",
    "        dataset_sizes (sequence): size of each dataset\n",
    "    Example:\n",
    "        >>> WeightedDatasetRandomSampler([0.2, 0.8], [1, 7])\n",
    "        [(1, 6),(1, 2),(1, 0),(0, 0),(1, 5),(1, 3),(1, 1),(0, 0),(1, 4)]\n",
    "    \"\"\"\n",
    "\n",
    "    def __init__(self, dataset_weights: Sequence[float], dataset_sizes: Sequence[int]) -> None:\n",
    "        try:\n",
    "            np.random.choice(len(dataset_sizes), p=dataset_weights)\n",
    "        except ValueError as e:\n",
    "            raise e\n",
    "        self.dataset_weights = dataset_weights\n",
    "        self.dataset_sizes = dataset_sizes\n",
    "        self.sum_cum = np.cumsum([0] + self.dataset_sizes)\n",
    "        self.num_datasets = len(dataset_sizes)\n",
    "\n",
    "    def __iter__(self) -> Iterator[int]:\n",
    "        self.perm_lists = [EndlessGeneratePermutedIndices(ds_size) for ds_size in self.dataset_sizes]\n",
    "        return self\n",
    "\n",
    "    def __next__(self) -> int:\n",
    "        if all([perm_list.finished for perm_list in self.perm_lists]):\n",
    "            raise StopIteration\n",
    "        dataset_idx = np.random.choice(self.num_datasets, p=self.dataset_weights)\n",
    "        return self.sum_cum[dataset_idx] + next(self.perm_lists[dataset_idx])\n",
    "\n",
    "    def __len__(self) -> int:\n",
    "        return int(max([ds_size / ds_weight for ds_size, ds_weight in zip(self.dataset_sizes, self.dataset_weights)]))\n"
   ]
  },
  {
   "cell_type": "code",
   "execution_count": 81,
   "metadata": {},
   "outputs": [
    {
     "data": {
      "text/plain": [
       "25"
      ]
     },
     "execution_count": 81,
     "metadata": {},
     "output_type": "execute_result"
    }
   ],
   "source": [
    "a = WeightedDatasetRandomSampler([0.2, 0.8], [5, 7])\n",
    "len(a)"
   ]
  },
  {
   "cell_type": "code",
   "execution_count": 56,
   "metadata": {},
   "outputs": [
    {
     "data": {
      "text/plain": [
       "8"
      ]
     },
     "execution_count": 56,
     "metadata": {},
     "output_type": "execute_result"
    }
   ],
   "source": []
  },
  {
   "cell_type": "code",
   "execution_count": 84,
   "metadata": {},
   "outputs": [
    {
     "data": {
      "text/plain": [
       "8"
      ]
     },
     "execution_count": 84,
     "metadata": {},
     "output_type": "execute_result"
    }
   ],
   "source": [
    "next(iter(a))"
   ]
  },
  {
   "cell_type": "code",
   "execution_count": 6,
   "metadata": {},
   "outputs": [
    {
     "data": {
      "text/plain": [
       "1"
      ]
     },
     "execution_count": 6,
     "metadata": {},
     "output_type": "execute_result"
    }
   ],
   "source": [
    "np.random.choice(2, p=[0.2,0.8])"
   ]
  },
  {
   "cell_type": "code",
   "execution_count": 7,
   "metadata": {},
   "outputs": [
    {
     "data": {
      "text/plain": [
       "array([ 0,  3, 10])"
      ]
     },
     "execution_count": 7,
     "metadata": {},
     "output_type": "execute_result"
    }
   ],
   "source": [
    "np.cumsum([0] + [3,7])"
   ]
  },
  {
   "cell_type": "code",
   "execution_count": 12,
   "metadata": {},
   "outputs": [],
   "source": [
    "a = [EndlessGeneratePermutedIndices(ds_size) for ds_size in [4,3,6,7]]"
   ]
  },
  {
   "cell_type": "code",
   "execution_count": 51,
   "metadata": {},
   "outputs": [
    {
     "ename": "IndexError",
     "evalue": "list index out of range",
     "output_type": "error",
     "traceback": [
      "\u001b[1;31m---------------------------------------------------------------------------\u001b[0m",
      "\u001b[1;31mIndexError\u001b[0m                                Traceback (most recent call last)",
      "Cell \u001b[1;32mIn[51], line 1\u001b[0m\n\u001b[1;32m----> 1\u001b[0m \u001b[39mnext\u001b[39m(a[\u001b[39m4\u001b[39;49m])\n",
      "\u001b[1;31mIndexError\u001b[0m: list index out of range"
     ]
    }
   ],
   "source": [
    "next(a[4])"
   ]
  },
  {
   "cell_type": "code",
   "execution_count": 2,
   "metadata": {},
   "outputs": [
    {
     "data": {
      "text/plain": [
       "8"
      ]
     },
     "execution_count": 2,
     "metadata": {},
     "output_type": "execute_result"
    }
   ],
   "source": [
    "import numpy as np\n",
    "np.clip(10, 1,8)"
   ]
  },
  {
   "cell_type": "code",
   "execution_count": 1,
   "metadata": {},
   "outputs": [],
   "source": [
    "import torch\n",
    "import numpy as np\n",
    "import math\n",
    "import cv2\n",
    "import random\n",
    "from PIL import Image\n",
    "\n",
    "class image():\n",
    "    def __init__(self) -> None:\n",
    "        self.img_w, self.img_h = 512, 32\n",
    "        self.multiscales = True\n",
    "    def resize_multiscales(self, img, borderType=cv2.BORDER_CONSTANT):\n",
    "        def _resize_ratio(img, ratio, fix_h=True):\n",
    "            if ratio * self.img_w < self.img_h:\n",
    "                if fix_h: # Keep original h and w\n",
    "                    trg_h = self.img_h \n",
    "                else: # Smaller h and original w\n",
    "                    trg_h = int(ratio * self.img_w)\n",
    "                trg_w = self.img_w\n",
    "            else: # Original h and w\n",
    "                trg_h, trg_w = self.img_h, int(self.img_h / ratio)\n",
    "            img = cv2.resize(img, (trg_w, trg_h))\n",
    "            pad_h, pad_w = (self.img_h - trg_h) / 2, (self.img_w - trg_w) / 2\n",
    "            top, bottom = math.ceil(pad_h), math.floor(pad_h)\n",
    "            left, right = math.ceil(pad_w), math.floor(pad_w)\n",
    "            img = cv2.copyMakeBorder(img, top, bottom, left, right, borderType)\n",
    "            return img\n",
    "\n",
    "        if True:#self.is_training:\n",
    "            if True:#random.random() < 0.5:\n",
    "                # Stupid logic here keep h the same\n",
    "                base, maxh, maxw = self.img_h, self.img_h, self.img_w\n",
    "                h, w = random.randint(base, maxh), 600#random.randint(base, maxw)\n",
    "                return _resize_ratio(img, h / w, fix_h=False)\n",
    "        return _resize_ratio(img, img.shape[0] / img.shape[1])  # keep aspect ratio\n",
    "    def standardize_width(self, img, h, min_w, max_w):\n",
    "        ih, iw, _ = img.shape\n",
    "        round_to = 8\n",
    "        new_w = math.ceil(h * iw/ih / round_to) * round_to\n",
    "        new_w = np.clip(new_w, min_w, max_w)\n",
    "        return cv2.resize(img, (new_w, h), interpolation = cv2.INTER_AREA)\n",
    "    def resize(self, img):\n",
    "        if self.multiscales:\n",
    "            return self.resize_multiscales(img, cv2.BORDER_REPLICATE)\n",
    "        else:\n",
    "            return cv2.resize(img, (self.img_w, self.img_h))\n",
    "\n",
    "# img = image()\n",
    "# i = torch.rand(3,32,512)\n",
    "# img.resize(i)"
   ]
  },
  {
   "cell_type": "code",
   "execution_count": 2,
   "metadata": {},
   "outputs": [
    {
     "name": "stdout",
     "output_type": "stream",
     "text": [
      "(96, 1841, 3)\n"
     ]
    },
    {
     "data": {
      "text/plain": [
       "(32, 512, 3)"
      ]
     },
     "execution_count": 2,
     "metadata": {},
     "output_type": "execute_result"
    }
   ],
   "source": [
    "# def resize(w, h, expected_height, image_min_width, image_max_width):\n",
    "#     new_w = int(expected_height * float(w) / float(h))\n",
    "#     round_to = 8\n",
    "#     new_w = math.ceil(new_w/round_to)*round_to\n",
    "#     new_w = max(new_w, image_min_width)\n",
    "#     new_w = min(new_w, image_max_width)\n",
    "\n",
    "#     return new_w, expected_height\n",
    "def resize(img, h, min_w, max_w):\n",
    "    ih, iw, _ = img.shape\n",
    "    round_to = 8\n",
    "    new_w = math.ceil(h * iw/ih / round_to) * round_to\n",
    "    new_w = np.clip(new_w, min_w, max_w)\n",
    "    return cv2.resize(img, (new_w, h), interpolation = cv2.INTER_AREA)\n",
    "\n",
    "opencv_image = cv2.imread('0001_tests.png')\n",
    "print(opencv_image.shape)\n",
    "opencv_image = resize(opencv_image, 32, 32,512)\n",
    "def cv2pil(cvi):\n",
    "    color_coverted = cv2.cvtColor(opencv_image, cv2.COLOR_BGR2RGB)\n",
    "  \n",
    "    # Displaying the Scanned Image by using cv2.imshow() method\n",
    "    # cv2.imshow(\"OpenCV Image\", opencv_image)\n",
    "    \n",
    "    # Displaying the converted image\n",
    "    pil_image = Image.fromarray(color_coverted)\n",
    "    return pil_image, color_coverted\n",
    "pil_image, color_coverted = cv2pil(opencv_image)\n",
    "color_coverted.shape"
   ]
  },
  {
   "cell_type": "code",
   "execution_count": 5,
   "metadata": {},
   "outputs": [
    {
     "data": {
      "text/plain": [
       "0"
      ]
     },
     "execution_count": 5,
     "metadata": {},
     "output_type": "execute_result"
    }
   ],
   "source": [
    "i = image()\n",
    "i2 = i.resize(opencv_image)\n",
    "pil, cc = cv2pil(i2)\n",
    "np.sum(color_coverted-cc)"
   ]
  },
  {
   "cell_type": "code",
   "execution_count": 6,
   "metadata": {},
   "outputs": [
    {
     "ename": "ValueError",
     "evalue": "empty range for randrange() (7, 5, -2)",
     "output_type": "error",
     "traceback": [
      "\u001b[1;31m---------------------------------------------------------------------------\u001b[0m",
      "\u001b[1;31mValueError\u001b[0m                                Traceback (most recent call last)",
      "Cell \u001b[1;32mIn[6], line 1\u001b[0m\n\u001b[1;32m----> 1\u001b[0m random\u001b[39m.\u001b[39;49mrandint(\u001b[39m7\u001b[39;49m,\u001b[39m4\u001b[39;49m)\n",
      "File \u001b[1;32m~\\AppData\\Local\\Programs\\Python\\Python39\\lib\\random.py:338\u001b[0m, in \u001b[0;36mRandom.randint\u001b[1;34m(self, a, b)\u001b[0m\n\u001b[0;32m    334\u001b[0m \u001b[39mdef\u001b[39;00m \u001b[39mrandint\u001b[39m(\u001b[39mself\u001b[39m, a, b):\n\u001b[0;32m    335\u001b[0m \u001b[39m    \u001b[39m\u001b[39m\"\"\"Return random integer in range [a, b], including both end points.\u001b[39;00m\n\u001b[0;32m    336\u001b[0m \u001b[39m    \"\"\"\u001b[39;00m\n\u001b[1;32m--> 338\u001b[0m     \u001b[39mreturn\u001b[39;00m \u001b[39mself\u001b[39;49m\u001b[39m.\u001b[39;49mrandrange(a, b\u001b[39m+\u001b[39;49m\u001b[39m1\u001b[39;49m)\n",
      "File \u001b[1;32m~\\AppData\\Local\\Programs\\Python\\Python39\\lib\\random.py:316\u001b[0m, in \u001b[0;36mRandom.randrange\u001b[1;34m(self, start, stop, step)\u001b[0m\n\u001b[0;32m    314\u001b[0m     \u001b[39mreturn\u001b[39;00m istart \u001b[39m+\u001b[39m \u001b[39mself\u001b[39m\u001b[39m.\u001b[39m_randbelow(width)\n\u001b[0;32m    315\u001b[0m \u001b[39mif\u001b[39;00m step \u001b[39m==\u001b[39m \u001b[39m1\u001b[39m:\n\u001b[1;32m--> 316\u001b[0m     \u001b[39mraise\u001b[39;00m \u001b[39mValueError\u001b[39;00m(\u001b[39m\"\u001b[39m\u001b[39mempty range for randrange() (\u001b[39m\u001b[39m%d\u001b[39;00m\u001b[39m, \u001b[39m\u001b[39m%d\u001b[39;00m\u001b[39m, \u001b[39m\u001b[39m%d\u001b[39;00m\u001b[39m)\u001b[39m\u001b[39m\"\u001b[39m \u001b[39m%\u001b[39m (istart, istop, width))\n\u001b[0;32m    318\u001b[0m \u001b[39m# Non-unit step argument supplied.\u001b[39;00m\n\u001b[0;32m    319\u001b[0m istep \u001b[39m=\u001b[39m \u001b[39mint\u001b[39m(step)\n",
      "\u001b[1;31mValueError\u001b[0m: empty range for randrange() (7, 5, -2)"
     ]
    }
   ],
   "source": [
    "random.randint(7,4)"
   ]
  },
  {
   "cell_type": "code",
   "execution_count": 4,
   "metadata": {},
   "outputs": [
    {
     "data": {
      "image/png": "[encoded data removed]",
      "text/plain": [
       "<PIL.Image.Image image mode=RGB size=512x32>"
      ]
     },
     "execution_count": 4,
     "metadata": {},
     "output_type": "execute_result"
    }
   ],
   "source": [
    "pil"
   ]
  },
  {
   "cell_type": "code",
   "execution_count": null,
   "metadata": {},
   "outputs": [],
   "source": []
  }
 ],
 "metadata": {
  "kernelspec": {
   "display_name": ".venv",
   "language": "python",
   "name": "python3"
  },
  "language_info": {
   "codemirror_mode": {
    "name": "ipython",
    "version": 3
   },
   "file_extension": ".py",
   "mimetype": "text/x-python",
   "name": "python",
   "nbconvert_exporter": "python",
   "pygments_lexer": "ipython3",
   "version": "3.9.0"
  },
  "orig_nbformat": 4
 },
 "nbformat": 4,
 "nbformat_minor": 2
}
